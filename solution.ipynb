{
 "cells": [
  {
   "cell_type": "code",
   "execution_count": 6,
   "id": "7712fb9b",
   "metadata": {},
   "outputs": [],
   "source": [
    "#импортируем необходимые компоненты\n",
    "import pandas as pd\n",
    "import numpy as np\n",
    "import matplotlib.pyplot as plt\n",
    "from sklearn.cluster import KMeans\n",
    "from sklearn.metrics import silhouette_score as sil_sc"
   ]
  },
  {
   "cell_type": "code",
   "execution_count": null,
   "id": "a504dedc",
   "metadata": {},
   "outputs": [],
   "source": [
    "data = pd.read_csv(\"data.csv\").iloc[:,1:] \n",
    "#выбираем все строки, все столбцы, начиная с первого, т.к. столбец \"id\" нам не нужен"
   ]
  },
  {
   "cell_type": "code",
   "execution_count": null,
   "id": "f9b67242",
   "metadata": {},
   "outputs": [],
   "source": [
    "#Находим оптимальное количество кластеров с помощью \"Elbow method\" и с помощью \"average silhouette method\"\n",
    "distortions=[]\n",
    "av_sil=[]\n",
    "for i in range(2,10):\n",
    "    kmeans=KMeans(n_clusters=i)\n",
    "    kmeans.fit(data)#находим координаты центроидов для данного количесвта кластеров\n",
    "    print(\"we have just fitted it for i=\",i)\n",
    "    distortions.append(kmeans.inertia_)\n",
    "    av_sil.append(sil_sc(data,kmeans.predict(data),metric=\"euclidean\"))\n",
    "    print(\"we have just added sil_sc for i=\",i)\n",
    "    #добавляем сумму сум квадратов расстояний от объекта до ближайшего к нему центроида \n",
    "    #в качестве значения SSW для данного кол-ва кластеров"
   ]
  },
  {
   "cell_type": "code",
   "execution_count": 2,
   "id": "8fb178e2",
   "metadata": {},
   "outputs": [
    {
     "data": {
      "image/png": "[encoded data removed]",
      "text/plain": [
       "<Figure size 432x288 with 1 Axes>"
      ]
     },
     "metadata": {
      "needs_background": "light"
     },
     "output_type": "display_data"
    }
   ],
   "source": [
    "plt.title(\"Elbow curve\")\n",
    "plt.plot(range(2,20),distortions,color=\"red\",marker=\"s\")\n",
    "plt.grid(\"True\")\n",
    "plt.show()\n",
    "# По графику видно, что SSW начинает падать медленнее , начиная с 5 кластеров. Пока примем это за оптимальный вариант"
   ]
  },
  {
   "cell_type": "code",
   "execution_count": null,
   "id": "95bb9537",
   "metadata": {},
   "outputs": [],
   "source": [
    "plt.title(\"Average silhouette curve\")\n",
    "plt.plot(range(2,10),av_sil,color=\"blue\",marker=\"s\")\n",
    "plt.grid(\"True\")\n",
    "plt.show()\n",
    "#По графику видно, что максимальный средний силуэт достигается при K=2 кластерах"
   ]
  },
  {
   "cell_type": "code",
   "execution_count": null,
   "id": "806e3009",
   "metadata": {},
   "outputs": [],
   "source": [
    "# Пробуем найти такую инициализацию центроидов, при которой в итоге получилось бы минимальная inertia(SSW)\n",
    "best = KMeans(n_clusters=5,init='random').fit(data)\n",
    "for i in range(1,100):\n",
    "    kmeans_5=KMeans(n_clusters=3,init='random').fit(data)\n",
    "    print(\"we just computed {0}th fitted estimator\".format(i))\n",
    "    if kmeans_5.inertia_<best.inertia_:\n",
    "        best=kmeans_5\n",
    "sub=best.predict(data)"
   ]
  },
  {
   "cell_type": "code",
   "execution_count": 3,
   "id": "0b70165e",
   "metadata": {},
   "outputs": [],
   "source": [
    "sub=KMeans(n_clusters=5).fit_predict(data)"
   ]
  },
  {
   "cell_type": "code",
   "execution_count": 4,
   "id": "b8a7ad89",
   "metadata": {},
   "outputs": [],
   "source": [
    "submition=pd.DataFrame({\"Id\":pd.read_csv(\"data.csv\")[\"id\"].values,\"Predicted\":sub})"
   ]
  },
  {
   "cell_type": "code",
   "execution_count": 5,
   "id": "2fe06ae7",
   "metadata": {},
   "outputs": [],
   "source": [
    "submition.to_csv(\"submition.csv\",index=False)"
   ]
  },
  {
   "cell_type": "code",
   "execution_count": null,
   "id": "2f13f0f7",
   "metadata": {},
   "outputs": [],
   "source": []
  }
 ],
 "metadata": {
  "kernelspec": {
   "display_name": "Python 3 (ipykernel)",
   "language": "python",
   "name": "python3"
  },
  "language_info": {
   "codemirror_mode": {
    "name": "ipython",
    "version": 3
   },
   "file_extension": ".py",
   "mimetype": "text/x-python",
   "name": "python",
   "nbconvert_exporter": "python",
   "pygments_lexer": "ipython3",
   "version": "3.10.4"
  }
 },
 "nbformat": 4,
 "nbformat_minor": 5
}
