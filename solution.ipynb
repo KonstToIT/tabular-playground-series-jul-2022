{
 "cells": [
  {
   "cell_type": "code",
   "execution_count": 1,
   "id": "7712fb9b",
   "metadata": {},
   "outputs": [],
   "source": [
    "#импортируем необходимые компоненты\n",
    "import pandas as pd\n",
    "import numpy as np\n",
    "import matplotlib.pyplot as plt\n",
    "from sklearn.cluster import KMeans\n",
    "from sklearn.metrics import silhouette_score as sil_sc\n",
    "from sklearn.decomposition import PCA"
   ]
  },
  {
   "cell_type": "code",
   "execution_count": 2,
   "id": "0859334b",
   "metadata": {},
   "outputs": [],
   "source": [
    "predata = pd.read_csv(\"data.csv\").iloc[:,1:]\n",
    "#выбираем все строки, все столбцы, начиная с первого, т.к. столбец \"id\" нам не нужен"
   ]
  },
  {
   "cell_type": "code",
   "execution_count": 3,
   "id": "2bf8f3d3",
   "metadata": {},
   "outputs": [],
   "source": [
    "predata=(predata-predata.mean())/predata.std()\n",
    "#нормализуем данные"
   ]
  },
  {
   "cell_type": "code",
   "execution_count": null,
   "id": "6d2414f0",
   "metadata": {},
   "outputs": [],
   "source": [
    "predata.describe()"
   ]
  },
  {
   "cell_type": "code",
   "execution_count": 4,
   "id": "5d2bfb2a",
   "metadata": {},
   "outputs": [],
   "source": [
    "\n",
    "data=PCA(n_components=0.99).fit_transform(predata)\n",
    "#Находим координаты векторов, задающих пространство меньшей размерности и применяем\n",
    "#уменьшение размерности для data\n",
    "#Применяем метод PCA для уменьшения размерности так, чтобы 90% дисперсии было сохранено."
   ]
  },
  {
   "cell_type": "code",
   "execution_count": 5,
   "id": "9fe90c76",
   "metadata": {},
   "outputs": [
    {
     "name": "stdout",
     "output_type": "stream",
     "text": [
      "(98000, 29)\n"
     ]
    }
   ],
   "source": [
    "print(data.shape)\n",
    "#смотрим на форму наших данных"
   ]
  },
  {
   "cell_type": "code",
   "execution_count": null,
   "id": "2aa741a3",
   "metadata": {},
   "outputs": [],
   "source": [
    "#Находим оптимальное количество кластеров с помощью \"Elbow method\" и с помощью \"average silhouette method\"\n",
    "distortions=[]\n",
    "av_sil=[]\n",
    "range_=range(2,10)\n",
    "for i in range_:\n",
    "    kmeans=KMeans(n_clusters=i)\n",
    "    kmeans.fit(data)#находим координаты центроидов для данного количесвта кластеров\n",
    "    print(\"we have just fitted it for i=\",i)\n",
    "    distortions.append(kmeans.inertia_)\n",
    "    av_sil.append(sil_sc(data,kmeans.predict(data),metric=\"euclidean\"))\n",
    "    print(\"we have just added sil_sc for i=\",i)\n",
    "    #добавляем сумму сум квадратов расстояний от объекта до ближайшего к нему центроида \n",
    "    #в качестве значения SSW для данного кол-ва кластеров"
   ]
  },
  {
   "cell_type": "code",
   "execution_count": null,
   "id": "8fb178e2",
   "metadata": {},
   "outputs": [],
   "source": [
    "plt.title(\"Elbow curve\")\n",
    "plt.plot(range_,distortions,color=\"red\",marker=\"s\")\n",
    "plt.grid(\"True\")\n",
    "plt.show()\n",
    "# По графику видно, что SSW начинает падать медленнее , начиная с 5 кластеров. Пока примем это за оптимальный вариант"
   ]
  },
  {
   "cell_type": "code",
   "execution_count": null,
   "id": "806bd1d7",
   "metadata": {},
   "outputs": [],
   "source": [
    "plt.title(\"Average silhouette curve\")\n",
    "plt.plot(range_,av_sil,color=\"blue\",marker=\"s\")\n",
    "plt.grid(\"True\")\n",
    "plt.show()\n",
    "#По графику видно, что максимальный средний силуэт достигается при K=2 кластерах"
   ]
  },
  {
   "cell_type": "code",
   "execution_count": 6,
   "id": "a25a9726",
   "metadata": {},
   "outputs": [
    {
     "name": "stdout",
     "output_type": "stream",
     "text": [
      "we have just computed 1th fitted estimator\n",
      "we have just computed 2th fitted estimator\n",
      "we have just computed 3th fitted estimator\n",
      "we have just computed 4th fitted estimator\n",
      "we have just computed 5th fitted estimator\n",
      "we have just computed 6th fitted estimator\n",
      "we have just computed 7th fitted estimator\n",
      "we have just computed 8th fitted estimator\n",
      "we have just computed 9th fitted estimator\n",
      "we have just computed 10th fitted estimator\n",
      "we have just computed 11th fitted estimator\n",
      "we have just computed 12th fitted estimator\n",
      "we have just computed 13th fitted estimator\n",
      "we have just computed 14th fitted estimator\n",
      "we have just computed 15th fitted estimator\n",
      "we have just computed 16th fitted estimator\n",
      "we have just computed 17th fitted estimator\n",
      "we have just computed 18th fitted estimator\n",
      "we have just computed 19th fitted estimator\n",
      "we have just computed 20th fitted estimator\n",
      "we have just computed 21th fitted estimator\n",
      "we have just computed 22th fitted estimator\n",
      "we have just computed 23th fitted estimator\n",
      "we have just computed 24th fitted estimator\n",
      "we have just computed 25th fitted estimator\n",
      "we have just computed 26th fitted estimator\n",
      "we have just computed 27th fitted estimator\n",
      "we have just computed 28th fitted estimator\n",
      "we have just computed 29th fitted estimator\n",
      "we have just computed 30th fitted estimator\n",
      "we have just computed 31th fitted estimator\n",
      "we have just computed 32th fitted estimator\n",
      "we have just computed 33th fitted estimator\n",
      "we have just computed 34th fitted estimator\n",
      "we have just computed 35th fitted estimator\n",
      "we have just computed 36th fitted estimator\n",
      "we have just computed 37th fitted estimator\n",
      "we have just computed 38th fitted estimator\n",
      "we have just computed 39th fitted estimator\n",
      "we have just computed 40th fitted estimator\n",
      "we have just computed 41th fitted estimator\n",
      "we have just computed 42th fitted estimator\n",
      "we have just computed 43th fitted estimator\n",
      "we have just computed 44th fitted estimator\n",
      "we have just computed 45th fitted estimator\n",
      "we have just computed 46th fitted estimator\n",
      "we have just computed 47th fitted estimator\n",
      "we have just computed 48th fitted estimator\n",
      "we have just computed 49th fitted estimator\n",
      "we have just computed 50th fitted estimator\n",
      "we have just computed 51th fitted estimator\n",
      "we have just computed 52th fitted estimator\n",
      "we have just computed 53th fitted estimator\n",
      "we have just computed 54th fitted estimator\n",
      "we have just computed 55th fitted estimator\n",
      "we have just computed 56th fitted estimator\n",
      "we have just computed 57th fitted estimator\n",
      "we have just computed 58th fitted estimator\n",
      "we have just computed 59th fitted estimator\n",
      "we have just computed 60th fitted estimator\n",
      "we have just computed 61th fitted estimator\n",
      "we have just computed 62th fitted estimator\n",
      "we have just computed 63th fitted estimator\n",
      "we have just computed 64th fitted estimator\n",
      "we have just computed 65th fitted estimator\n",
      "we have just computed 66th fitted estimator\n",
      "we have just computed 67th fitted estimator\n",
      "we have just computed 68th fitted estimator\n",
      "we have just computed 69th fitted estimator\n",
      "we have just computed 70th fitted estimator\n",
      "we have just computed 71th fitted estimator\n",
      "we have just computed 72th fitted estimator\n",
      "we have just computed 73th fitted estimator\n",
      "we have just computed 74th fitted estimator\n",
      "we have just computed 75th fitted estimator\n",
      "we have just computed 76th fitted estimator\n",
      "we have just computed 77th fitted estimator\n",
      "we have just computed 78th fitted estimator\n",
      "we have just computed 79th fitted estimator\n",
      "we have just computed 80th fitted estimator\n",
      "we have just computed 81th fitted estimator\n",
      "we have just computed 82th fitted estimator\n",
      "we have just computed 83th fitted estimator\n",
      "we have just computed 84th fitted estimator\n",
      "we have just computed 85th fitted estimator\n",
      "we have just computed 86th fitted estimator\n",
      "we have just computed 87th fitted estimator\n",
      "we have just computed 88th fitted estimator\n",
      "we have just computed 89th fitted estimator\n",
      "we have just computed 90th fitted estimator\n",
      "we have just computed 91th fitted estimator\n",
      "we have just computed 92th fitted estimator\n",
      "we have just computed 93th fitted estimator\n",
      "we have just computed 94th fitted estimator\n",
      "we have just computed 95th fitted estimator\n",
      "we have just computed 96th fitted estimator\n",
      "we have just computed 97th fitted estimator\n",
      "we have just computed 98th fitted estimator\n",
      "we have just computed 99th fitted estimator\n"
     ]
    }
   ],
   "source": [
    "# Пробуем найти такую инициализацию центроидов, при которой в итоге получилось бы минимальная inertia(SSW)\n",
    "n_c=6\n",
    "n_i=range(1,100)\n",
    "best = KMeans(n_clusters=n_c,init='random').fit(data)\n",
    "for i in n_i:\n",
    "    kmeans_5=KMeans(n_clusters=n_c,init='random').fit(data)\n",
    "    print(\"we have just computed {0}th fitted estimator\".format(i))\n",
    "    if kmeans_5.inertia_<best.inertia_:\n",
    "        best=kmeans_5\n",
    "sub=best.predict(data)"
   ]
  },
  {
   "cell_type": "code",
   "execution_count": 7,
   "id": "b8a7ad89",
   "metadata": {},
   "outputs": [],
   "source": [
    "submition=pd.DataFrame({\"Id\":pd.read_csv(\"data.csv\")[\"id\"].values,\"Predicted\":sub})"
   ]
  },
  {
   "cell_type": "code",
   "execution_count": 8,
   "id": "2fe06ae7",
   "metadata": {},
   "outputs": [],
   "source": [
    "submition.to_csv(\"submition.csv\",index=False)"
   ]
  },
  {
   "cell_type": "code",
   "execution_count": null,
   "id": "2f13f0f7",
   "metadata": {},
   "outputs": [],
   "source": []
  }
 ],
 "metadata": {
  "kernelspec": {
   "display_name": "Python 3 (ipykernel)",
   "language": "python",
   "name": "python3"
  },
  "language_info": {
   "codemirror_mode": {
    "name": "ipython",
    "version": 3
   },
   "file_extension": ".py",
   "mimetype": "text/x-python",
   "name": "python",
   "nbconvert_exporter": "python",
   "pygments_lexer": "ipython3",
   "version": "3.10.4"
  }
 },
 "nbformat": 4,
 "nbformat_minor": 5
}
