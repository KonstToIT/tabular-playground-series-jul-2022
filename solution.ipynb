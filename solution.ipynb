{
 "cells": [
  {
   "cell_type": "code",
   "execution_count": 14,
   "id": "7712fb9b",
   "metadata": {},
   "outputs": [],
   "source": [
    "#импортируем необходимые компоненты\n",
    "import pandas as pd\n",
    "import numpy as np\n",
    "import matplotlib.pyplot as plt\n",
    "from sklearn.cluster import KMeans\n",
    "from sklearn.metrics import silhouette_score as sil_sc\n",
    "from sklearn.decomposition import PCA"
   ]
  },
  {
   "cell_type": "code",
   "execution_count": 32,
   "id": "0859334b",
   "metadata": {},
   "outputs": [],
   "source": [
    "predata = pd.read_csv(\"data.csv\").iloc[:,1:] \n",
    "#выбираем все строки, все столбцы, начиная с первого, т.к. столбец \"id\" нам не нужен"
   ]
  },
  {
   "cell_type": "code",
   "execution_count": 36,
   "id": "630e89ba",
   "metadata": {},
   "outputs": [],
   "source": [
    "data=PCA(n_components=0.9).fit_transform(predata)\n",
    "#Находим координаты векторов, задающих пространство меньшей размерности и применяем\n",
    "#уменьшение размерности для data\n",
    "#Применяем метод PCA для уменьшения размерности так, чтобы 90% дисперсии было сохранено."
   ]
  },
  {
   "cell_type": "code",
   "execution_count": 54,
   "id": "5ae3b340",
   "metadata": {},
   "outputs": [
    {
     "name": "stdout",
     "output_type": "stream",
     "text": [
      "(98000, 13)\n"
     ]
    }
   ],
   "source": [
    "print(data.shape)"
   ]
  },
  {
   "cell_type": "code",
   "execution_count": 37,
   "id": "2aa741a3",
   "metadata": {},
   "outputs": [
    {
     "name": "stdout",
     "output_type": "stream",
     "text": [
      "we have just fitted it for i= 2\n",
      "we have just added sil_sc for i= 2\n",
      "we have just fitted it for i= 3\n",
      "we have just added sil_sc for i= 3\n",
      "we have just fitted it for i= 4\n",
      "we have just added sil_sc for i= 4\n",
      "we have just fitted it for i= 5\n",
      "we have just added sil_sc for i= 5\n",
      "we have just fitted it for i= 6\n",
      "we have just added sil_sc for i= 6\n",
      "we have just fitted it for i= 7\n",
      "we have just added sil_sc for i= 7\n",
      "we have just fitted it for i= 8\n",
      "we have just added sil_sc for i= 8\n",
      "we have just fitted it for i= 9\n",
      "we have just added sil_sc for i= 9\n"
     ]
    }
   ],
   "source": [
    "#Находим оптимальное количество кластеров с помощью \"Elbow method\" и с помощью \"average silhouette method\"\n",
    "distortions=[]\n",
    "av_sil=[]\n",
    "for i in range(2,10):\n",
    "    kmeans=KMeans(n_clusters=i)\n",
    "    kmeans.fit(data)#находим координаты центроидов для данного количесвта кластеров\n",
    "    print(\"we have just fitted it for i=\",i)\n",
    "    distortions.append(kmeans.inertia_)\n",
    "    av_sil.append(sil_sc(data,kmeans.predict(data),metric=\"euclidean\"))\n",
    "    print(\"we have just added sil_sc for i=\",i)\n",
    "    #добавляем сумму сум квадратов расстояний от объекта до ближайшего к нему центроида \n",
    "    #в качестве значения SSW для данного кол-ва кластеров"
   ]
  },
  {
   "cell_type": "code",
   "execution_count": 38,
   "id": "8fb178e2",
   "metadata": {},
   "outputs": [
    {
     "data": {
      "image/png": "[encoded data removed]",
      "text/plain": [
       "<Figure size 432x288 with 1 Axes>"
      ]
     },
     "metadata": {
      "needs_background": "light"
     },
     "output_type": "display_data"
    }
   ],
   "source": [
    "plt.title(\"Elbow curve\")\n",
    "plt.plot(range(2,10),distortions,color=\"red\",marker=\"s\")\n",
    "plt.grid(\"True\")\n",
    "plt.show()\n",
    "# По графику видно, что SSW начинает падать медленнее , начиная с 5 кластеров. Пока примем это за оптимальный вариант"
   ]
  },
  {
   "cell_type": "code",
   "execution_count": 39,
   "id": "806bd1d7",
   "metadata": {},
   "outputs": [
    {
     "data": {
      "image/png": "[encoded data removed]",
      "text/plain": [
       "<Figure size 432x288 with 1 Axes>"
      ]
     },
     "metadata": {
      "needs_background": "light"
     },
     "output_type": "display_data"
    }
   ],
   "source": [
    "plt.title(\"Average silhouette curve\")\n",
    "plt.plot(range(2,10),av_sil,color=\"blue\",marker=\"s\")\n",
    "plt.grid(\"True\")\n",
    "plt.show()\n",
    "#По графику видно, что максимальный средний силуэт достигается при K=2 кластерах"
   ]
  },
  {
   "cell_type": "code",
   "execution_count": 51,
   "id": "a25a9726",
   "metadata": {},
   "outputs": [
    {
     "name": "stdout",
     "output_type": "stream",
     "text": [
      "we just computed 1th fitted estimator\n",
      "we just computed 2th fitted estimator\n",
      "we just computed 3th fitted estimator\n",
      "we just computed 4th fitted estimator\n",
      "we just computed 5th fitted estimator\n",
      "we just computed 6th fitted estimator\n",
      "we just computed 7th fitted estimator\n",
      "we just computed 8th fitted estimator\n",
      "we just computed 9th fitted estimator\n",
      "we just computed 10th fitted estimator\n",
      "we just computed 11th fitted estimator\n",
      "we just computed 12th fitted estimator\n",
      "we just computed 13th fitted estimator\n",
      "we just computed 14th fitted estimator\n",
      "we just computed 15th fitted estimator\n",
      "we just computed 16th fitted estimator\n",
      "we just computed 17th fitted estimator\n",
      "we just computed 18th fitted estimator\n",
      "we just computed 19th fitted estimator\n"
     ]
    }
   ],
   "source": [
    "# Пробуем найти такую инициализацию центроидов, при которой в итоге получилось бы минимальная inertia(SSW)\n",
    "best = KMeans(n_clusters=5,init='random').fit(data)\n",
    "for i in range(1,20):\n",
    "    kmeans_5=KMeans(n_clusters=3,init='random').fit(data)\n",
    "    print(\"we have just computed {0}th fitted estimator\".format(i))\n",
    "    if kmeans_5.inertia_<best.inertia_:\n",
    "        best=kmeans_5\n",
    "sub=best.predict(data)"
   ]
  },
  {
   "cell_type": "code",
   "execution_count": 52,
   "id": "b8a7ad89",
   "metadata": {},
   "outputs": [],
   "source": [
    "submition=pd.DataFrame({\"Id\":pd.read_csv(\"data.csv\")[\"id\"].values,\"Predicted\":sub})"
   ]
  },
  {
   "cell_type": "code",
   "execution_count": 53,
   "id": "2fe06ae7",
   "metadata": {},
   "outputs": [],
   "source": [
    "submition.to_csv(\"submition.csv\",index=False)"
   ]
  },
  {
   "cell_type": "code",
   "execution_count": null,
   "id": "2f13f0f7",
   "metadata": {},
   "outputs": [],
   "source": []
  }
 ],
 "metadata": {
  "kernelspec": {
   "display_name": "Python 3 (ipykernel)",
   "language": "python",
   "name": "python3"
  },
  "language_info": {
   "codemirror_mode": {
    "name": "ipython",
    "version": 3
   },
   "file_extension": ".py",
   "mimetype": "text/x-python",
   "name": "python",
   "nbconvert_exporter": "python",
   "pygments_lexer": "ipython3",
   "version": "3.10.4"
  }
 },
 "nbformat": 4,
 "nbformat_minor": 5
}
